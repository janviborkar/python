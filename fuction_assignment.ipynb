{
 "cells": [
  {
   "cell_type": "raw",
   "id": "01856fa3",
   "metadata": {},
   "source": [
    "1. Write function which takes two parameters account no and name of the user.\n",
    "Check if the account number is valid. Account no is valid only if it is a 4 digit number less than 5000\n",
    "Check if the name is valid. Name is valid if all characters are alphabets and no numbers or special chars in the name\n",
    "If both name and 'acc no' are valid return True \n",
    "If acc no is invalid return a message string saying “Account no is invalid”\n",
    "if name is invalid return None"
   ]
  },
  {
   "cell_type": "code",
   "execution_count": null,
   "id": "7a71b6c9",
   "metadata": {},
   "outputs": [],
   "source": [
    "def checkacna(accno,name):\n",
    "    \"\"\"\n",
    "    accno: is a string containing account no\n",
    "    name: is a string containing name\n",
    "    \"\"\"\n",
    "    if(len(accno)==4) and (999<int(accno)<5000):\n",
    "        if name.isalpha() == True:\n",
    "            return True\n",
    "        else:\n",
    "            return None\n",
    "    else:\n",
    "        #msg=\n",
    "        return \"Account no is invalid\""
   ]
  },
  {
   "cell_type": "code",
   "execution_count": 15,
   "id": "ff24b7d8",
   "metadata": {},
   "outputs": [
    {
     "data": {
      "text/plain": [
       "'Account no is invalid'"
      ]
     },
     "execution_count": 15,
     "metadata": {},
     "output_type": "execute_result"
    }
   ],
   "source": [
    "checkacna('0057','dagr')"
   ]
  },
  {
   "cell_type": "raw",
   "id": "ac7b2402",
   "metadata": {},
   "source": [
    "2. WA function to calculate total salary given that\n",
    "1. post      2. basic salary\n",
    "rules:\n",
    "post can be manager or employee\n",
    "total sal = basic + TA + HRA\n",
    "TA = 5000 for 'manager' \n",
    "and TA = 10,000 for 'employee'\n",
    "HRA = 20,000 for 'manager' and HRA = 12,000 for 'employee'\n",
    "\n",
    "return total salary based on two parameters"
   ]
  },
  {
   "cell_type": "code",
   "execution_count": 9,
   "id": "580a19e4",
   "metadata": {},
   "outputs": [
    {
     "data": {
      "text/plain": [
       "55000"
      ]
     },
     "execution_count": 9,
     "metadata": {},
     "output_type": "execute_result"
    }
   ],
   "source": [
    "post = \"manager\"\n",
    "basic_sal = 30000\n",
    "\n",
    "def total_sal():\n",
    "    if post == \"manager\":\n",
    "        TA = 5000\n",
    "        HRA = 20000\n",
    "        total_salary = basic_sal + TA + HRA\n",
    "        return total_salary\n",
    "    elif post == \"employee\":\n",
    "        TA = 10000\n",
    "        HRA = 12000\n",
    "        total_salary = basic_sal + TA + HRA\n",
    "        return total_salary\n",
    "    else:\n",
    "        return \"Invalid POST\"\n",
    "total_sal()        "
   ]
  },
  {
   "cell_type": "raw",
   "id": "054e5f75",
   "metadata": {},
   "source": [
    "3.  WA function to rotate given string by 2 position to right\n",
    "\n",
    "Ex.\n",
    "s1=”IACSD”\n",
    "Rotate by 2 place to right\n",
    "“SDIAC”"
   ]
  },
  {
   "cell_type": "code",
   "execution_count": 1,
   "id": "5c907cf8",
   "metadata": {},
   "outputs": [
    {
     "data": {
      "text/plain": [
       "'SDIAC'"
      ]
     },
     "execution_count": 1,
     "metadata": {},
     "output_type": "execute_result"
    }
   ],
   "source": [
    "s1=\"IACSD\"\n",
    "def rot(st):\n",
    "    s2 = st[-2:] + st[:-2]\n",
    "    return s2\n",
    "rot(s1)        "
   ]
  },
  {
   "cell_type": "raw",
   "id": "82dea762",
   "metadata": {},
   "source": [
    "4.  Generalize above function to rotate string to right by n"
   ]
  },
  {
   "cell_type": "code",
   "execution_count": 13,
   "id": "b0565e70",
   "metadata": {},
   "outputs": [
    {
     "name": "stdout",
     "output_type": "stream",
     "text": [
      "Enter A Number To Rotate A String3\n"
     ]
    },
    {
     "data": {
      "text/plain": [
       "'CSDIA'"
      ]
     },
     "execution_count": 13,
     "metadata": {},
     "output_type": "execute_result"
    }
   ],
   "source": [
    "s1 = \"IACSD\"\n",
    "num = int(input(\"Enter A Number To Rotate A String\"))\n",
    "\n",
    "def rot(st,n):\n",
    "    s2 = st[-n:] + st[:-n]\n",
    "    return s2\n",
    "rot(s1,num) "
   ]
  },
  {
   "cell_type": "raw",
   "id": "82181123",
   "metadata": {},
   "source": [
    "5.  Generalize above function to rotate string by n to right or left"
   ]
  },
  {
   "cell_type": "code",
   "execution_count": 16,
   "id": "ea8b4e33",
   "metadata": {},
   "outputs": [
    {
     "name": "stdout",
     "output_type": "stream",
     "text": [
      "Enter A Number To Rotate A String3\n",
      "Enter the direction in which you want to rotate(R/L):L\n"
     ]
    },
    {
     "data": {
      "text/plain": [
       "'SDIAC'"
      ]
     },
     "execution_count": 16,
     "metadata": {},
     "output_type": "execute_result"
    }
   ],
   "source": [
    "s1 = \"IACSD\"\n",
    "num = int(input(\"Enter A Number To Rotate A String\"))\n",
    "rl = input(\"Enter the direction in which you want to rotate(R/L):\")\n",
    "\n",
    "def rot(st,n):\n",
    "    if rl=='R':\n",
    "        s2 = st[-n:] + st[:-n]\n",
    "        return s2\n",
    "    elif rl=='L':\n",
    "        s2 = st[n:] + st[:n]\n",
    "        return s2\n",
    "rot(s1,num) "
   ]
  },
  {
   "cell_type": "raw",
   "id": "2ec1ac91",
   "metadata": {},
   "source": [
    "6. WAP to count number of passengers in every airline. Here we are given dictionary of passanger id and airline id\n",
    "Ex\n",
    "input_dir ={'p1':'a1','p2':'a10','p89':'a1','p5':'a10'}\n",
    "output: {'a1':2, 'a10':2}"
   ]
  },
  {
   "cell_type": "code",
   "execution_count": 23,
   "id": "be66db79",
   "metadata": {},
   "outputs": [
    {
     "name": "stdout",
     "output_type": "stream",
     "text": [
      "['a1', 'a10', 'a1', 'a10']\n",
      "{'a1': 2, 'a10': 2}\n"
     ]
    }
   ],
   "source": [
    "input_dir ={'p1':'a1','p2':'a10','p89':'a1','p5':'a10'}\n",
    "vals = list(input_dir.values())\n",
    "print(vals)\n",
    "word_count = {}\n",
    "for word in vals:\n",
    "    word_count[word] = vals.count(word)\n",
    "print(word_count)"
   ]
  },
  {
   "cell_type": "raw",
   "id": "4377efc2",
   "metadata": {},
   "source": [
    "7. given a list of strings.\n",
    "every string is in format \"Emp_name:Emp_id\"\n",
    "Emp_id is always a number\n",
    "if emp_id is amstrong number then rotate emp_name 1 place to the right --> and print the emp_name\n",
    "if emp_id is a prime no then print vowels from the employee name\n",
    "in other cases print consonents from the emp name\n",
    "Finally there should be print of every employee name as per given condition\n"
   ]
  },
  {
   "cell_type": "code",
   "execution_count": null,
   "id": "d4639360",
   "metadata": {},
   "outputs": [],
   "source": [
    "def count_passengers(input_dir):\n",
    "    count_airid={}\n",
    "    for pass_id,air_id in input_dir.items():\n",
    "        if air_id in input_airid:\n",
    "            count_airid[air_id]+=1\n",
    "            \n",
    "        else:\n",
    "            count_airid[air_id]=0\n",
    "            \n",
    "    return count_airid\n",
    "            \n",
    "        \n",
    "        \n",
    "    \n",
    "input_dir ={'p1':'a1','p2':'a10','p89':'a1','p5':'a10'}\n",
    "a=count_passengers(input_dir)"
   ]
  },
  {
   "cell_type": "code",
   "execution_count": null,
   "id": "d57802bb",
   "metadata": {},
   "outputs": [],
   "source": [
    "8. Write a function which takes all details of a person as input in \n",
    "sequence and prints details as follows\n",
    "(Hint: Think which type of parameter to be used for every option)\n",
    "a. Take name and Print it in Camel Case\n",
    "b. Take 10 digit Mobile No and print it appending +91\n",
    "c. Take location as optional value. If not given then print India\n",
    "d. Take Qualifications. Qualifications can be 1 or 2 or many.\n",
    "Print all the passed qualifications one by one. Default qualification \n",
    "is \"Human"
   ]
  },
  {
   "cell_type": "code",
   "execution_count": null,
   "id": "c812068e",
   "metadata": {},
   "outputs": [],
   "source": [
    "def print_person_details(name, mobile_no, location, *qualifications):\n",
    "    # a. Convert name to Camel Case\n",
    "    for word in name.split():\n",
    "        camel_case_name = ''.join(word.capitalize())\n",
    "        \n",
    "    \n",
    "    mobile_no = \"+91 \" + mobile_no\n",
    "\n",
    "  \n",
    "    if not location:\n",
    "        location = \"India\"\n",
    "\n",
    "    if not qualifications:\n",
    "        qualifications = (\"Human\",)\n",
    "\n",
    "    print(\"Name:\" ,camel_case_name)\n",
    "    print(\"Mobile No:\", mobile_no)\n",
    "    print(\"Location:\" ,location)\n",
    "    print(\"Qualifications:\",qualifications)\n",
    "    "
   ]
  },
  {
   "cell_type": "markdown",
   "id": "d61591cf",
   "metadata": {},
   "source": [
    "9. Create a function \"cloth_details\" with three arguments, color, shape \n",
    "and size. All three are optional and can be passed in any sequence by the \n",
    "user."
   ]
  },
  {
   "cell_type": "code",
   "execution_count": null,
   "id": "00381088",
   "metadata": {},
   "outputs": [],
   "source": [
    "def cloth_details(color=None, shape=None, size=None):\n",
    "    print(\"Color:\",color)\n",
    "    print(\"Shape:\", shape)\n",
    "    print(\"Size:\",size)\n",
    "    \n",
    "cloth_details(color=\"red\", shape=\"round\", size=\"large\")\n",
    "cloth_details(color=\"red\", size=\"large\")"
   ]
  },
  {
   "cell_type": "markdown",
   "id": "15514414",
   "metadata": {},
   "source": []
  },
  {
   "cell_type": "markdown",
   "id": "35be39c1",
   "metadata": {},
   "source": []
  },
  {
   "cell_type": "code",
   "execution_count": null,
   "id": "23c98ad3",
   "metadata": {},
   "outputs": [],
   "source": [
    "def print_person_details(name, mobile_no, location, *qualifications):\n",
    "    # a. Convert name to Camel Case\n",
    "    for word in name.split():\n",
    "        camel_case_name = ''.join(word.capitalize())\n",
    "        \n",
    "    \n",
    "    mobile_no = \"+91 \" + mobile_no\n",
    "\n",
    "  \n",
    "    if not location:\n",
    "        location = \"India\"\n",
    "\n",
    "    if not qualifications:\n",
    "        qualifications = (\"Human\",)\n",
    "\n",
    "    print(\"Name:\" ,camel_case_name)\n",
    "    print(\"Mobile No:\", mobile_no)\n",
    "    print(\"Location:\" ,location)\n",
    "    print(\"Qualifications:\",qualifications)\n",
    "    "
   ]
  }
 ],
 "metadata": {
  "kernelspec": {
   "display_name": "Python 3 (ipykernel)",
   "language": "python",
   "name": "python3"
  },
  "language_info": {
   "codemirror_mode": {
    "name": "ipython",
    "version": 3
   },
   "file_extension": ".py",
   "mimetype": "text/x-python",
   "name": "python",
   "nbconvert_exporter": "python",
   "pygments_lexer": "ipython3",
   "version": "3.11.4"
  }
 },
 "nbformat": 4,
 "nbformat_minor": 5
}
