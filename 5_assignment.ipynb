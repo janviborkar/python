{
 "cells": [
  {
   "cell_type": "markdown",
   "metadata": {},
   "source": [
    "# Q1\n",
    "Write programs using lists in python\n",
    "1. Reverse a given list in Python\n",
    "aList = [100, 200, 300, 400, 500]\n",
    "output:\n",
    "[500, 400, 300, 200, 100]"
   ]
  },
  {
   "cell_type": "code",
   "execution_count": 4,
   "metadata": {},
   "outputs": [
    {
     "name": "stdout",
     "output_type": "stream",
     "text": [
      "[60, 50, 40, 30, 20, 10]\n",
      "[60, 50, 40, 30, 20, 10]\n"
     ]
    }
   ],
   "source": [
    "l1= [10,20,30,40,50,60]\n",
    "print(l1[::-1])\n",
    "l1.reverse()\n",
    "print(l1)"
   ]
  },
  {
   "cell_type": "markdown",
   "metadata": {},
   "source": [
    "# Q2\n",
    "take a list 'l1' of even nos between 150 to 250. Print its length.\n",
    "Then create another list 'l2' using 'l1', containing only nos divisible by 4 from 'l1'.\n"
   ]
  },
  {
   "cell_type": "code",
   "execution_count": 8,
   "metadata": {},
   "outputs": [
    {
     "name": "stdout",
     "output_type": "stream",
     "text": [
      "[150, 152, 154, 156, 158, 160, 162, 164, 166, 168, 170, 172, 174, 176, 178, 180, 182, 184, 186, 188, 190, 192, 194, 196, 198, 200, 202, 204, 206, 208, 210, 212, 214, 216, 218, 220, 222, 224, 226, 228, 230, 232, 234, 236, 238, 240, 242, 244, 246, 248]\n",
      "[152, 156, 160, 164, 168, 172, 176, 180, 184, 188, 192, 196, 200, 204, 208, 212, 216, 220, 224, 228, 232, 236, 240, 244, 248]\n"
     ]
    }
   ],
   "source": [
    "l1 = [ x for x in range(150,250,2)]\n",
    "print(l1)\n",
    "l2= [ x for x in l1 if x%4==0]\n",
    "print(l2)\n",
    "\n",
    "# for x in l1:\n",
    "#     if x%4==0:\n",
    "#         l2.append(x)\n",
    "# print(l2)\n"
   ]
  },
  {
   "cell_type": "markdown",
   "metadata": {},
   "source": [
    "# Q3\n",
    "Given a Python list of numbers. Turn every item of a list into its square root\n",
    "aList = [1, 4, 9, 16, 25, 36, 49] \n",
    "output:\n",
    "[1, 2, 3, 4, 5, 6, 7]"
   ]
  },
  {
   "cell_type": "code",
   "execution_count": 11,
   "metadata": {},
   "outputs": [
    {
     "name": "stdout",
     "output_type": "stream",
     "text": [
      "[1, 2, 3, 4, 5, 6, 7]\n"
     ]
    }
   ],
   "source": [
    "l1= [1, 4, 9, 16, 25, 36, 49] \n",
    "l2 = [ int(x**0.5) for x in l1]\n",
    "print(l2)"
   ]
  },
  {
   "cell_type": "markdown",
   "metadata": {},
   "source": [
    "# Q4\n",
    "Print two lists in the following order\n",
    "list1 = [5, 6,7]\n",
    "list2 = [0, 1]\n",
    "output:\n",
    "50,51,60,61,70,71"
   ]
  },
  {
   "cell_type": "code",
   "execution_count": 20,
   "metadata": {},
   "outputs": [
    {
     "name": "stdout",
     "output_type": "stream",
     "text": [
      "['50', '51', '60', '61', '70', '71']\n",
      "['50', '51', '60', '61', '70', '71']\n"
     ]
    }
   ],
   "source": [
    "list1 = [5, 6,7] \n",
    "list2 = [0, 1] \n",
    "output=[]\n",
    "output2 = [str(i)+str(j) for i in list1 for j in list2]\n",
    "for x in list1:\n",
    "    l1= [ output.append(str(x)+str(j)) for j in list2 ]\n",
    "print(output)\n",
    "print(output2)"
   ]
  },
  {
   "cell_type": "markdown",
   "metadata": {},
   "source": [
    "# Q5\n",
    "Given a two Python list. Iterate both lists simultaneously such that list1 should display item in original order and list2 in reverse order. It should work for any two lists.\n",
    "list1 = [10, 20, 30, 40]\n",
    "list2 = [100, 200, 300, 400]\n",
    "output:\n",
    "10 400\n",
    "20 300\n",
    "30 200\n",
    "40 100\n"
   ]
  },
  {
   "cell_type": "code",
   "execution_count": 24,
   "metadata": {},
   "outputs": [
    {
     "name": "stdout",
     "output_type": "stream",
     "text": [
      "[10, 400, 20, 300, 30, 200, 40, 100]\n"
     ]
    }
   ],
   "source": [
    "list1 = [10, 20, 30, 40]\n",
    "list2 = [100, 200, 300, 400]\n",
    "list2.reverse()\n",
    "k=1\n",
    "output=[]\n",
    "# output = [ i if k%2==0 else j for i in list1 for j in list2[::-1]]\n",
    "for i in range(len(list1)):\n",
    "    if(k%2==0):\n",
    "        output.append(list2[i])\n",
    "        output.append(list1[i])\n",
    "    else:\n",
    "        output.append(list1[i])\n",
    "        output.append(list2[i])\n",
    "print(output)"
   ]
  },
  {
   "cell_type": "markdown",
   "metadata": {},
   "source": [
    "# Q6\n",
    "Remove empty strings from the list of strings\n",
    "list1 = [\"Ashish\", \"\", \"Atharva\", \"Amit\", \"\", \"Revati\"]\n",
    "output:\n",
    "[\"Ashish\", \"Atharva\", \"Amit\", \"Revati\"]"
   ]
  },
  {
   "cell_type": "code",
   "execution_count": 30,
   "metadata": {},
   "outputs": [
    {
     "name": "stdout",
     "output_type": "stream",
     "text": [
      "['Ashish', 'Atharva', 'Amit', 'Revati']\n"
     ]
    }
   ],
   "source": [
    "list1 = [\"Ashish\", \"\", \"Atharva\", \"Amit\", \"\", \"Revati\"]\n",
    "output = [ i  for i in list1 if str(i)!=\"\"]\n",
    "print(output)"
   ]
  },
  {
   "cell_type": "markdown",
   "metadata": {},
   "source": [
    " # Q7\n",
    "Add item 7000 after 6000 in the following Python List\n",
    "list1 = [10, 20, [300, 400, [5000, 6000], 500], 30, 40]\n",
    "output:\n",
    "[10, 20, [300, 400, [5000, 6000, 7000], 500], 30, 40]"
   ]
  },
  {
   "cell_type": "code",
   "execution_count": 34,
   "metadata": {},
   "outputs": [],
   "source": [
    "list1 = [10, 20, [300, 400, [5000, 6000], 500], 30, 40] "
   ]
  },
  {
   "cell_type": "code",
   "execution_count": 35,
   "metadata": {},
   "outputs": [
    {
     "name": "stdout",
     "output_type": "stream",
     "text": [
      "[10, 20, [300, 400, [5000, 6000, 7000], 500], 30, 40]\n"
     ]
    }
   ],
   "source": [
    "list1[2][2].append(7000)\n",
    "print(list1)"
   ]
  },
  {
   "cell_type": "markdown",
   "metadata": {},
   "source": [
    "# Q8\n",
    "Given a nested list extend it by adding the sub list [\"h\", \"i\", \"j\"] in such a way that it will look like the following list\n",
    "\n",
    "list1 = [\"a\", \"b\", [\"c\", [\"d\", \"e\", [\"f\", \"g\"], \"k\"], \"l\"], \"m\", \"n\"]\n",
    "Sub List to be added = [\"h\", \"i\", \"j\"]\n",
    "output:\n",
    "['a', 'b', ['c', ['d', 'e', ['f', 'g', 'h', 'i', 'j'], 'k'], 'l'], 'm', 'n'] \n",
    "\n",
    "solution\n",
    "list1 = [\"a\", \"b\", [\"c\", [\"d\", \"e\", [\"f\", \"g\"], \"k\"], \"l\"], \"m\", \"n\"]\n",
    "subList = [\"h\", \"i\", \"j\"]\n",
    "list1[2][1][2].extend(subList)\n",
    "print(list1)"
   ]
  },
  {
   "cell_type": "code",
   "execution_count": 32,
   "metadata": {},
   "outputs": [
    {
     "name": "stdout",
     "output_type": "stream",
     "text": [
      "['a', 'b', ['c', ['d', 'e', ['f', 'g', 'h', 'i', 'j'], 'k'], 'l'], 'm', 'n']\n"
     ]
    }
   ],
   "source": [
    "list1 = [\"a\", \"b\", [\"c\", [\"d\", \"e\", [\"f\", \"g\"], \"k\"], \"l\"], \"m\", \"n\"]\n",
    "subList = [\"h\", \"i\", \"j\"]\n",
    "list1[2][1][2].extend(subList)\n",
    "print(list1)"
   ]
  },
  {
   "cell_type": "markdown",
   "metadata": {},
   "source": [
    "# Q9\n",
    "Given a Python list, find value 20 in the list, and if it is present, replace it with 200. Only update the first occurrence of a value\n",
    "list1 = [5, 10, 15, 20, 25, 50, 20]\n",
    "output:\n",
    "list1 = [5, 10, 15, 200, 25, 50, 20]"
   ]
  },
  {
   "cell_type": "code",
   "execution_count": 38,
   "metadata": {},
   "outputs": [
    {
     "name": "stdout",
     "output_type": "stream",
     "text": [
      "[5, 10, 15, 200, 25, 50, 20]\n"
     ]
    }
   ],
   "source": [
    "list1 = [5, 10, 15, 20, 25, 50, 20]\n",
    "for i in list1:\n",
    "    if i==20:\n",
    "        list1[list1.index(20)]=200\n",
    "        break\n",
    "print(list1)\n"
   ]
  },
  {
   "cell_type": "markdown",
   "metadata": {},
   "source": [
    "# Q10\n",
    "Given a Python list, remove all occurrence of 20 from the list\n",
    "list1 = [5, 20, 15, 20, 25, 50, 20]\n",
    "output:\n",
    "[5, 15, 25, 50]"
   ]
  },
  {
   "cell_type": "code",
   "execution_count": 122,
   "metadata": {},
   "outputs": [
    {
     "name": "stdout",
     "output_type": "stream",
     "text": [
      "[5, 15, 25, 50]\n"
     ]
    }
   ],
   "source": [
    "list1 = [5, 20, 15, 20, 25, 50, 20]\n",
    "# list2= list1.copy()\n",
    "# list3=[x for x in list1 if x!=20]\n",
    "#print(list3)\n",
    "# l=len(list1)\n",
    "for i in range(len(list1.copy())):\n",
    "    if 20 in list1:\n",
    "        list1.remove(20)\n",
    "print(list1)"
   ]
  },
  {
   "cell_type": "markdown",
   "metadata": {},
   "source": [
    "# Q11\n",
    "Take a number as input from user. \n",
    "Print maximum and minimum integer which can be generated using all the digits in the input number\n",
    "Ex. Input 3421   : o/p max: 4321, min 1234\n",
    "Input 7789    : o/p max: 9776   min 6779"
   ]
  },
  {
   "cell_type": "code",
   "execution_count": 46,
   "metadata": {},
   "outputs": [
    {
     "name": "stdout",
     "output_type": "stream",
     "text": [
      "87215\n",
      "12578\n",
      "87521\n"
     ]
    }
   ],
   "source": [
    "n=input()\n",
    "list1=[x for x in n]\n",
    "list1.sort()\n",
    "mini=\"\"\n",
    "maxm=\"\"\n",
    "for x in list1:\n",
    "    mini=mini+x\n",
    "list1.reverse()\n",
    "for x in list1:\n",
    "    maxm=maxm+x\n",
    "print(int(mini))\n",
    "print(int(maxm))"
   ]
  },
  {
   "cell_type": "markdown",
   "metadata": {},
   "source": [
    "# Q12\n",
    "Take integer from user and print all odd numbers which can be generated using any number of digits from given number\n",
    "Ex. \n",
    "Input: 3421  o/p: 1,3,13,43,23,31,41,21,421,241,341,431,423,243,143,413,1243,1423,4213,4123, 2413,2143, .. etc\n",
    "\n"
   ]
  },
  {
   "cell_type": "code",
   "execution_count": 123,
   "metadata": {},
   "outputs": [],
   "source": [
    "# from itertools import permutations\n",
    "# n=input()\n",
    "# list1=[x for x in n]\n",
    "# list2 = [x for x in list1 if int(x)%2!=0]\n",
    "# list3=[]\n",
    "# for odd in list2:\n",
    "#     p=odd\n",
    "#     list3.append(int(odd))\n",
    "#     for it_length in range(len(list1)):\n",
    "#         #print(it_length)\n",
    "#         for k in range(it_length):\n",
    "#             print(it_length,k)\n",
    "#             for l in list1:\n",
    "#                 if int(l) not in list3 and int(l+p) not in list3:\n",
    "#                     p=l+p\n",
    "#                     if(len(p)==k+1):\n",
    "#                         list3.append(int(p))\n",
    "#             print(\"+++++++\")\n",
    "#             print(list3, p)\n",
    "#             p=odd\n",
    "#         p=odd\n",
    "#     print(\"================\")\n",
    "# #         p=i\n",
    "# print(list1)\n",
    "# print(list2)\n",
    "# print(list3)"
   ]
  },
  {
   "cell_type": "markdown",
   "metadata": {},
   "source": [
    "# Q12\n",
    "Take integer from user and print all odd numbers which can be generated using any number of digits from given number\n",
    "Ex. \n",
    "Input: 3421  o/p: 1,3,13,43,23,31,41,21,421,241,341,431,423,243,143,413,1243,1423,4213,4123, 2413,2143, .. etc\n",
    "\n"
   ]
  },
  {
   "cell_type": "code",
   "execution_count": 97,
   "metadata": {},
   "outputs": [
    {
     "name": "stdout",
     "output_type": "stream",
     "text": [
      "435\n",
      "3  5  43  45  35  53  435  453  345  543  "
     ]
    }
   ],
   "source": [
    "from itertools import permutations\n",
    "n=input()\n",
    "list1=[x for x in n]\n",
    "list2 = [x for x in list1 if int(x)%2!=0]\n",
    "list3=[]\n",
    "for it_length in range(len(list1)+1):\n",
    "    list4=[''.join(x) for x in permutations(list1,it_length)]\n",
    "    list3.extend(x for x in list4 if x!='' and  x not in list3 and int(x)%2!=0)\n",
    "       \n",
    "for x in list3:\n",
    "    if x!= '' and int(x)%2!=0:\n",
    "        print(int(x), \" \", end=\"\")\n",
    "# print()\n",
    "# print(list1)\n",
    "# print(list2)\n",
    "# print(list3)"
   ]
  }
 ],
 "metadata": {
  "kernelspec": {
   "display_name": "Python 3 (ipykernel)",
   "language": "python",
   "name": "python3"
  },
  "language_info": {
   "codemirror_mode": {
    "name": "ipython",
    "version": 3
   },
   "file_extension": ".py",
   "mimetype": "text/x-python",
   "name": "python",
   "nbconvert_exporter": "python",
   "pygments_lexer": "ipython3",
   "version": "3.11.4"
  }
 },
 "nbformat": 4,
 "nbformat_minor": 4
}
