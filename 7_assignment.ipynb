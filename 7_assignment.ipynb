{
 "cells": [
  {
   "cell_type": "markdown",
   "id": "e072c605",
   "metadata": {},
   "source": [
    "# Q1\n",
    "Given a string of odd length greater than 7, return a new string made of the middle three characters\n",
    "of a given String"
   ]
  },
  {
   "cell_type": "code",
   "execution_count": 16,
   "id": "d3acc711",
   "metadata": {},
   "outputs": [
    {
     "name": "stdout",
     "output_type": "stream",
     "text": [
      "Enter String greater than 7 character rakeshzippetabb\n",
      "zip\n"
     ]
    }
   ],
   "source": [
    "string1=input(\"Enter String greater than 7 character \")\n",
    "l=len(string1)\n",
    "print(string1[(l//2-1):(l//2+2)])"
   ]
  },
  {
   "cell_type": "code",
   "execution_count": 27,
   "id": "0fa04a01",
   "metadata": {},
   "outputs": [
    {
     "name": "stdout",
     "output_type": "stream",
     "text": [
      "Return a centered string of length width.\n",
      "\n",
      "Padding is done using the specified fill character (default is a space).\n"
     ]
    }
   ],
   "source": [
    "print(str.center.__doc__)"
   ]
  },
  {
   "cell_type": "markdown",
   "id": "c07d5319",
   "metadata": {},
   "source": [
    "# Q2 \n",
    "Given two strings, s1 and s2, create a new string by appending s2 in the middle of s1"
   ]
  },
  {
   "cell_type": "code",
   "execution_count": 26,
   "id": "9a9f6c0f",
   "metadata": {},
   "outputs": [
    {
     "name": "stdout",
     "output_type": "stream",
     "text": [
      "Enter string 1 :qwerty\n",
      "Enter string 2 :asd\n",
      "qwerty\n",
      "qweasdrty\n"
     ]
    }
   ],
   "source": [
    "as1=input(\"Enter string 1 :\")\n",
    "as2=input(\"Enter string 2 :\")\n",
    "l=len(as1)\n",
    "print(as1[:l//2],as2,as1[l//2:],sep=\"\")"
   ]
  },
  {
   "cell_type": "markdown",
   "id": "f8357520",
   "metadata": {},
   "source": [
    "# Q3\n",
    "two strings, s1, and s2 return a new string made of the first, middle, and last characters each input\n",
    "string"
   ]
  },
  {
   "cell_type": "code",
   "execution_count": 41,
   "id": "a0f4276b",
   "metadata": {},
   "outputs": [
    {
     "name": "stdout",
     "output_type": "stream",
     "text": [
      "Enter String1 : America\n",
      "Enter String2 : Japan\n",
      "('A', 'J', 'r', 'p', 'a', 'n')\n",
      "<class 'tuple'>\n",
      "AJrpan\n"
     ]
    }
   ],
   "source": [
    "as1=input(\"Enter String1 : \")\n",
    "as2=input('Enter String2 : ')\n",
    "l=len(as1)\n",
    "l1=len(as2)\n",
    "s3=as1[0],as2[0],as1[l//2],as2[l1//2],as1[-1],as2[-1]\n",
    "print(s3)\n",
    "print(type(s3))\n",
    "print(\"\".join(s3))"
   ]
  },
  {
   "cell_type": "markdown",
   "id": "b4923cc2",
   "metadata": {},
   "source": [
    "# Q4\n",
    "Given an input string with the combination of the lower and upper case arrange characters in such a\n",
    "way that all lowercase letters should come first."
   ]
  },
  {
   "cell_type": "code",
   "execution_count": 59,
   "id": "574a16e6",
   "metadata": {},
   "outputs": [
    {
     "name": "stdout",
     "output_type": "stream",
     "text": [
      "Enter String1 : qweRTY\n",
      "wqeYTR\n"
     ]
    }
   ],
   "source": [
    "as1=input(\"Enter String1 : \")\n",
    "list1=[x for x in as1]\n",
    "\n",
    "list1.sort(reverse=True)\n",
    "print(\"\".join(list1))"
   ]
  },
  {
   "cell_type": "markdown",
   "id": "01c3e0bb",
   "metadata": {},
   "source": [
    "# Q5\n",
    "create a third-string made of the first char of s1 then the last char of s2, Next, the second char of s1\n",
    "and second last char of s2, and so on. Any leftover chars go at the end of the result"
   ]
  },
  {
   "cell_type": "code",
   "execution_count": 85,
   "id": "8b98b948",
   "metadata": {},
   "outputs": [
    {
     "name": "stdout",
     "output_type": "stream",
     "text": [
      "Enter string 1 : abcde\n",
      "Enter string 2 : xyz\n",
      "3\n",
      "azbycxde\n"
     ]
    }
   ],
   "source": [
    "as1=input(\"Enter string 1 : \")\n",
    "as2=input(\"Enter string 2 : \")\n",
    "l=len(as1)\n",
    "l2=len(as2)\n",
    "s1=''\n",
    "c=\"\"\n",
    "if l > l2 :\n",
    "    l3=l2\n",
    "    c=as1[l2:l+1]\n",
    "else:\n",
    "    l3=l\n",
    "    c=as2[l:l2+1]\n",
    "print(l3)\n",
    "for i in range(1,l3+1):\n",
    "    s1+=as1[i-1]\n",
    "    s1+=as2[-i]\n",
    "s1+=c\n",
    "print(s1)"
   ]
  },
  {
   "cell_type": "markdown",
   "id": "1e19d62a",
   "metadata": {},
   "source": [
    "# Q6 \n",
    "Find all occurrences of “USA” from right to left in a given string ignoring the case. also display the\n",
    "starting position"
   ]
  },
  {
   "cell_type": "code",
   "execution_count": 35,
   "id": "72c59d86",
   "metadata": {},
   "outputs": [
    {
     "name": "stdout",
     "output_type": "stream",
     "text": [
      "8\n"
     ]
    }
   ],
   "source": [
    "str1 = \"Welcome to USA. usa awesome, USA is the usa isn't it?\"\n",
    "str2=\"usa\"\n",
    "lenstr2= len(str2)\n",
    "str1=str1.lower()\n",
    "list1= [ x for x in range(len(str1)) if str1[x:(lenstr2+x)] == str2]\n",
    "print(list1[::-1])"
   ]
  },
  {
   "cell_type": "markdown",
   "id": "f8798ae3",
   "metadata": {},
   "source": [
    "# Q7\n",
    "Find all overlapping occurrences of given substring in given string"
   ]
  },
  {
   "cell_type": "code",
   "execution_count": 17,
   "id": "541cdea7",
   "metadata": {},
   "outputs": [],
   "source": [
    "# Ex.\n",
    "# String = 0111\n",
    "# Substring = 11\n",
    "# Expected answer : 2\n",
    "# String : ANANAAAANNN\n",
    "# Substring: ANA\n",
    "# Expected answer : 2\n",
    "# String : ANANAAAANNN\n",
    "# Substring: AA\n",
    "# Expected answer : 3"
   ]
  },
  {
   "cell_type": "code",
   "execution_count": 48,
   "id": "ae10ec39",
   "metadata": {},
   "outputs": [
    {
     "name": "stdout",
     "output_type": "stream",
     "text": [
      "2\n"
     ]
    }
   ],
   "source": [
    "String = 'ANANAAAANNN'\n",
    "Substring= 'ANA'\n",
    "a=0\n",
    "while True:\n",
    "    if String.find(Substring) != -1:\n",
    "        a+=1\n",
    "        String= String[String.find(Substring)+1:]\n",
    "    \n",
    "    else:\n",
    "        break\n",
    "print(a)"
   ]
  },
  {
   "cell_type": "code",
   "execution_count": 49,
   "id": "4ae20d6a",
   "metadata": {},
   "outputs": [
    {
     "name": "stdout",
     "output_type": "stream",
     "text": [
      "2\n"
     ]
    }
   ],
   "source": [
    "String = 'ANANAAAANNN'\n",
    "Substring='ANA'\n",
    "a=len(String)\n",
    "b=len(Substring)\n",
    "c=0\n",
    "for i in range(a):\n",
    "    if (i+b-1)==a:\n",
    "        break\n",
    "    if String[i:(i+b)]==Substring:\n",
    "        c+=1\n",
    "print(c)"
   ]
  },
  {
   "cell_type": "markdown",
   "id": "66e13c82",
   "metadata": {},
   "source": [
    "# Q8 \n",
    "Given a string in format Emp_name:Emp_id"
   ]
  },
  {
   "cell_type": "code",
   "execution_count": 32,
   "id": "2d7ffd8b",
   "metadata": {},
   "outputs": [
    {
     "name": "stdout",
     "output_type": "stream",
     "text": [
      "2.0\n",
      "ArmStrong\n",
      "False\n",
      "-1\n"
     ]
    }
   ],
   "source": [
    "import math\n",
    "import sympy\n",
    "l1= [\"4_cdAc\",\"9_saatg\", \"15_ss\",\"89_sjkf\"]\n",
    "for x in l1:\n",
    "    list1= x.split(\"_\")\n",
    "    vow= len([x for x in list1[1].lower() if x in \"aeiou\"])\n",
    "    if(vow >= 1 and vow%2!=0):\n",
    "        print(math.sqrt(int(list1[0])))\n",
    "        continue\n",
    "    if(list1[1].count('s')==2):\n",
    "        print(sympy.isprime(list1[0]))\n",
    "        continue\n",
    "    #3\n",
    "    checkvow= list1[1][(len(list1[1])//2)]\n",
    "    var='aeiou'\n",
    "    if checkvow in var:\n",
    "        total=0\n",
    "        for checkarm in str(list1[0]):\n",
    "            total+=(int(checkarm)**len(list1[0]))\n",
    "        if(int(list1[0])==total):\n",
    "            print(\"ArmStrong\")\n",
    "        else:\n",
    "            print(\"Not Armstrong\")\n",
    "        continue\n",
    "    print(\"-1\")"
   ]
  },
  {
   "cell_type": "markdown",
   "id": "b34aca5b",
   "metadata": {},
   "source": [
    "# Q9\n",
    "ind all mobile number mentioned in given paragraph of text\n",
    "Mobile number is always a 10 digit number no spaces no special characters"
   ]
  },
  {
   "cell_type": "code",
   "execution_count": 61,
   "id": "328a8f92",
   "metadata": {},
   "outputs": [
    {
     "name": "stdout",
     "output_type": "stream",
     "text": [
      "9089786756\n",
      "8900000000\n"
     ]
    }
   ],
   "source": [
    "Input= \"this is a good number 9089786756 and 8900000000 is a desired number\"\n",
    "out=Input.split(\" \")\n",
    "for i in out:\n",
    "    a=i.isdecimal()\n",
    "    if a==True:\n",
    "        print(int(i))"
   ]
  },
  {
   "cell_type": "markdown",
   "id": "b0c98b4a",
   "metadata": {},
   "source": [
    "# Q10\n",
    "Count occurrence of spaces, and special characters in given string"
   ]
  },
  {
   "cell_type": "code",
   "execution_count": 6,
   "id": "4cf70aab",
   "metadata": {},
   "outputs": [
    {
     "name": "stdout",
     "output_type": "stream",
     "text": [
      "spaces :  2\n",
      "Special character :  4\n"
     ]
    }
   ],
   "source": [
    "it='Fgh^f #89 @$'\n",
    "space=0\n",
    "special=0\n",
    "for i in it:\n",
    "    a=i.isalnum()\n",
    "    if a==False:\n",
    "        if i!=\" \":\n",
    "            special+=1\n",
    "        else:\n",
    "            space+=1\n",
    "print(\"spaces : \",space)\n",
    "print(\"Special character : \",special)"
   ]
  },
  {
   "cell_type": "markdown",
   "id": "7061262d",
   "metadata": {},
   "source": [
    "#  Q11 \n",
    "iven a paragraph count number of words, sentences. Every sentence ends with either . or ? or !\n",
    "Print Count of how many normal sentences ending with . , how many interrogative sentences ( ending\n",
    "with ?) and how many exclamatory sentences ( ending with !)."
   ]
  },
  {
   "cell_type": "code",
   "execution_count": 21,
   "id": "e2e41594",
   "metadata": {},
   "outputs": [
    {
     "name": "stdout",
     "output_type": "stream",
     "text": [
      "I am at CDAC .\n",
      "What about you ?\n",
      "I am surprised by current weather !\n"
     ]
    }
   ],
   "source": [
    "it=\"I am at CDAC . What about you ? I am surprised by current weather !\"\n",
    "b=0\n",
    "for i in it:\n",
    "    if (i.isalnum()) or (i.isspace()):\n",
    "        pass\n",
    "    else:\n",
    "        a=it.index(i)\n",
    "        if (it[b].isspace()):\n",
    "            b+=1\n",
    "        print(it[b:(a+1)])\n",
    "        b=a+1"
   ]
  },
  {
   "cell_type": "markdown",
   "id": "a0e1c5d7",
   "metadata": {},
   "source": [
    "# Q12\n",
    "You are given a string S and width w.\n",
    "Your task is to wrap the string into a paragraph of width w"
   ]
  },
  {
   "cell_type": "code",
   "execution_count": 26,
   "id": "ecb9cc44",
   "metadata": {},
   "outputs": [
    {
     "name": "stdout",
     "output_type": "stream",
     "text": [
      "ABC\n",
      "DEF\n",
      "GHI\n",
      "JKL\n",
      "IMN\n",
      "OQR\n",
      "STU\n",
      "VWX\n",
      "YZa\n",
      "bc1\n",
      "2\n"
     ]
    }
   ],
   "source": [
    "String = 'ABCDEFGHIJKLIMNOQRSTUVWXYZabc12'\n",
    "Width=3\n",
    "ini=0\n",
    "end=Width\n",
    "while True:\n",
    "    if end>=(len(String)+Width):\n",
    "        break\n",
    "    print(String[ini:end])\n",
    "    ini=ini+Width\n",
    "    end=end+Width\n",
    "    "
   ]
  },
  {
   "cell_type": "code",
   "execution_count": 40,
   "id": "f1f43223",
   "metadata": {},
   "outputs": [],
   "source": [
    "str1 = \"Welcome to USA. usa awesome, USA is the usa isn't it?\"\n",
    "a=str1.find('USA',16)"
   ]
  },
  {
   "cell_type": "code",
   "execution_count": 41,
   "id": "e76b5a6a",
   "metadata": {},
   "outputs": [
    {
     "name": "stdout",
     "output_type": "stream",
     "text": [
      "29\n"
     ]
    }
   ],
   "source": []
  },
  {
   "cell_type": "code",
   "execution_count": null,
   "id": "781042b0",
   "metadata": {},
   "outputs": [],
   "source": []
  }
 ],
 "metadata": {
  "kernelspec": {
   "display_name": "Python 3 (ipykernel)",
   "language": "python",
   "name": "python3"
  },
  "language_info": {
   "codemirror_mode": {
    "name": "ipython",
    "version": 3
   },
   "file_extension": ".py",
   "mimetype": "text/x-python",
   "name": "python",
   "nbconvert_exporter": "python",
   "pygments_lexer": "ipython3",
   "version": "3.11.4"
  }
 },
 "nbformat": 4,
 "nbformat_minor": 5
}
