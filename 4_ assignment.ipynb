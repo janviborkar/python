{
 "cells": [
  {
   "cell_type": "markdown",
   "id": "4893c356",
   "metadata": {},
   "source": [
    "# Q1"
   ]
  },
  {
   "cell_type": "code",
   "execution_count": 1,
   "id": "6a8a196d",
   "metadata": {},
   "outputs": [
    {
     "data": {
      "text/plain": [
       "int"
      ]
     },
     "execution_count": 1,
     "metadata": {},
     "output_type": "execute_result"
    }
   ],
   "source": [
    "type(0)"
   ]
  },
  {
   "cell_type": "code",
   "execution_count": 2,
   "id": "f105690c",
   "metadata": {},
   "outputs": [
    {
     "data": {
      "text/plain": [
       "float"
      ]
     },
     "execution_count": 2,
     "metadata": {},
     "output_type": "execute_result"
    }
   ],
   "source": [
    "type(0.0)"
   ]
  },
  {
   "cell_type": "code",
   "execution_count": 3,
   "id": "053657da",
   "metadata": {},
   "outputs": [
    {
     "data": {
      "text/plain": [
       "str"
      ]
     },
     "execution_count": 3,
     "metadata": {},
     "output_type": "execute_result"
    }
   ],
   "source": [
    "type(\"A\")"
   ]
  },
  {
   "cell_type": "code",
   "execution_count": 4,
   "id": "da362732",
   "metadata": {},
   "outputs": [
    {
     "data": {
      "text/plain": [
       "builtin_function_or_method"
      ]
     },
     "execution_count": 4,
     "metadata": {},
     "output_type": "execute_result"
    }
   ],
   "source": [
    "type(print)"
   ]
  },
  {
   "cell_type": "code",
   "execution_count": 5,
   "id": "2b05a2f1",
   "metadata": {},
   "outputs": [
    {
     "data": {
      "text/plain": [
       "complex"
      ]
     },
     "execution_count": 5,
     "metadata": {},
     "output_type": "execute_result"
    }
   ],
   "source": [
    "type(3+3j)"
   ]
  },
  {
   "cell_type": "code",
   "execution_count": 6,
   "id": "17bb578d",
   "metadata": {},
   "outputs": [
    {
     "data": {
      "text/plain": [
       "bool"
      ]
     },
     "execution_count": 6,
     "metadata": {},
     "output_type": "execute_result"
    }
   ],
   "source": [
    "type(True)"
   ]
  },
  {
   "cell_type": "markdown",
   "id": "1faf3539",
   "metadata": {},
   "source": [
    "# Q2"
   ]
  },
  {
   "cell_type": "code",
   "execution_count": 7,
   "id": "1f9ff53b",
   "metadata": {},
   "outputs": [
    {
     "data": {
      "text/plain": [
       "True"
      ]
     },
     "execution_count": 7,
     "metadata": {},
     "output_type": "execute_result"
    }
   ],
   "source": [
    "isinstance(10,int)"
   ]
  },
  {
   "cell_type": "code",
   "execution_count": 9,
   "id": "ab0c221e",
   "metadata": {},
   "outputs": [
    {
     "data": {
      "text/plain": [
       "False"
      ]
     },
     "execution_count": 9,
     "metadata": {},
     "output_type": "execute_result"
    }
   ],
   "source": [
    "isinstance(10,float)"
   ]
  },
  {
   "cell_type": "code",
   "execution_count": 10,
   "id": "942e4d2b",
   "metadata": {},
   "outputs": [
    {
     "data": {
      "text/plain": [
       "False"
      ]
     },
     "execution_count": 10,
     "metadata": {},
     "output_type": "execute_result"
    }
   ],
   "source": [
    "isinstance(1,bool)"
   ]
  },
  {
   "cell_type": "code",
   "execution_count": 11,
   "id": "74ad09db",
   "metadata": {},
   "outputs": [
    {
     "data": {
      "text/plain": [
       "False"
      ]
     },
     "execution_count": 11,
     "metadata": {},
     "output_type": "execute_result"
    }
   ],
   "source": [
    "isinstance(0,bool)"
   ]
  },
  {
   "cell_type": "code",
   "execution_count": 12,
   "id": "9902d442",
   "metadata": {},
   "outputs": [
    {
     "data": {
      "text/plain": [
       "False"
      ]
     },
     "execution_count": 12,
     "metadata": {},
     "output_type": "execute_result"
    }
   ],
   "source": [
    "isinstance(78.8,int)"
   ]
  },
  {
   "cell_type": "code",
   "execution_count": 13,
   "id": "dfaef2f6",
   "metadata": {},
   "outputs": [
    {
     "data": {
      "text/plain": [
       "True"
      ]
     },
     "execution_count": 13,
     "metadata": {},
     "output_type": "execute_result"
    }
   ],
   "source": [
    "isinstance(78.8,float)"
   ]
  },
  {
   "cell_type": "code",
   "execution_count": 14,
   "id": "02fa532f",
   "metadata": {},
   "outputs": [
    {
     "data": {
      "text/plain": [
       "False"
      ]
     },
     "execution_count": 14,
     "metadata": {},
     "output_type": "execute_result"
    }
   ],
   "source": [
    "isinstance(78.8,complex)"
   ]
  },
  {
   "cell_type": "code",
   "execution_count": 15,
   "id": "bad4b2ae",
   "metadata": {},
   "outputs": [
    {
     "data": {
      "text/plain": [
       "True"
      ]
     },
     "execution_count": 15,
     "metadata": {},
     "output_type": "execute_result"
    }
   ],
   "source": [
    "isinstance(True,bool)"
   ]
  },
  {
   "cell_type": "markdown",
   "id": "1897ecfd",
   "metadata": {},
   "source": [
    "# Q3"
   ]
  },
  {
   "cell_type": "code",
   "execution_count": 16,
   "id": "3b3e65e8",
   "metadata": {
    "scrolled": true
   },
   "outputs": [
    {
     "name": "stdout",
     "output_type": "stream",
     "text": [
      "Enter the roll no : 45\n",
      "Enter the percentage : 65\n",
      "Enter the complex : 4+3j\n",
      "Enter the roll no Name : shivam muluk\n",
      "You entered roll no as :  45\n",
      "You entered Percentage as :  65.0\n",
      "You entered complex no as :  (4+3j)\n",
      "You entered Name as :  shivam muluk\n"
     ]
    }
   ],
   "source": [
    "roll=int(input(\"Enter the roll no : \"))\n",
    "perct=float(input(\"Enter the percentage : \"))\n",
    "compl=complex(input(\"Enter the complex : \"))\n",
    "name=input(\"Enter the Name : \")\n",
    "print(\"You entered roll no as : \" ,roll)\n",
    "print(\"You entered Percentage as : \", perct)\n",
    "print(\"You entered complex no as : \" ,compl)\n",
    "print(\"You entered Name as : \",name)"
   ]
  },
  {
   "cell_type": "markdown",
   "id": "1300da95",
   "metadata": {},
   "source": [
    "# Q4"
   ]
  },
  {
   "cell_type": "code",
   "execution_count": 61,
   "id": "42ffacd8",
   "metadata": {
    "scrolled": true
   },
   "outputs": [
    {
     "name": "stdout",
     "output_type": "stream",
     "text": [
      "Binary value of 2 is :  0b10\n",
      "Octal value of 2 is : 0o2\n",
      "0x2\n"
     ]
    },
    {
     "ename": "ValueError",
     "evalue": "invalid literal for int() with base 10: '0x2'",
     "output_type": "error",
     "traceback": [
      "\u001b[1;31m---------------------------------------------------------------------------\u001b[0m",
      "\u001b[1;31mValueError\u001b[0m                                Traceback (most recent call last)",
      "Cell \u001b[1;32mIn[61], line 6\u001b[0m\n\u001b[0;32m      4\u001b[0m a \u001b[38;5;241m=\u001b[39m \u001b[38;5;28mhex\u001b[39m(n)\n\u001b[0;32m      5\u001b[0m \u001b[38;5;28mprint\u001b[39m(a)\n\u001b[1;32m----> 6\u001b[0m d\u001b[38;5;241m=\u001b[39m\u001b[38;5;28mint\u001b[39m(a)\n\u001b[0;32m      7\u001b[0m \u001b[38;5;28mprint\u001b[39m(d)\n\u001b[0;32m      8\u001b[0m \u001b[38;5;28mprint\u001b[39m(\u001b[38;5;124m\"\u001b[39m\u001b[38;5;124mHexadecimal value of \u001b[39m\u001b[38;5;132;01m{}\u001b[39;00m\u001b[38;5;124m is : \u001b[39m\u001b[38;5;124m\"\u001b[39m\u001b[38;5;241m.\u001b[39mformat(n),\u001b[38;5;28mhex\u001b[39m(n))\n",
      "\u001b[1;31mValueError\u001b[0m: invalid literal for int() with base 10: '0x2'"
     ]
    }
   ],
   "source": [
    "n=2\n",
    "print(\"Binary value of {} is : \".format(n),bin(n))\n",
    "print(\"Octal value of {} is :\".format(n),oct(n))\n",
    "a = hex(n)\n",
    "print(a)\n",
    "d=int(a)\n",
    "print(d)\n",
    "print(\"Hexadecimal value of {} is : \".format(n),hex(n))\n"
   ]
  },
  {
   "cell_type": "markdown",
   "id": "70f4ca1c",
   "metadata": {},
   "source": [
    "# Q5"
   ]
  },
  {
   "cell_type": "code",
   "execution_count": 28,
   "id": "01475951",
   "metadata": {},
   "outputs": [
    {
     "name": "stdout",
     "output_type": "stream",
     "text": [
      "Integer value of given binary is : 19\n"
     ]
    }
   ],
   "source": [
    "n=0b10011\n",
    "print(\"Integer value of given binary is :\",int(n))"
   ]
  },
  {
   "cell_type": "markdown",
   "id": "84dbf0d9",
   "metadata": {},
   "source": [
    "# Q6"
   ]
  },
  {
   "cell_type": "code",
   "execution_count": 29,
   "id": "1ba03d16",
   "metadata": {},
   "outputs": [
    {
     "name": "stdout",
     "output_type": "stream",
     "text": [
      "Integer value of given octal is : 4105\n"
     ]
    }
   ],
   "source": [
    "n=0o10011\n",
    "print(\"Integer value of given octal is :\",int(n))"
   ]
  },
  {
   "cell_type": "markdown",
   "id": "d2ffee92",
   "metadata": {},
   "source": [
    "# Q7"
   ]
  },
  {
   "cell_type": "code",
   "execution_count": 63,
   "id": "fec81a8e",
   "metadata": {},
   "outputs": [
    {
     "name": "stdout",
     "output_type": "stream",
     "text": [
      "<class 'int'>\n",
      "Integer value of given hexadecimal is : 65553\n"
     ]
    }
   ],
   "source": [
    "n=0x10011\n",
    "print(type(n))\n",
    "print(\"Integer value of given hexadecimal is :\",int(n))"
   ]
  },
  {
   "cell_type": "markdown",
   "id": "df1e6905",
   "metadata": {},
   "source": [
    "# Q8"
   ]
  },
  {
   "cell_type": "code",
   "execution_count": 47,
   "id": "8271f4fa",
   "metadata": {},
   "outputs": [
    {
     "name": "stdout",
     "output_type": "stream",
     "text": [
      "Enter integer to convert to binary : 45\n",
      "0b101101\n",
      "Zeros  2\n",
      "Ones  4\n"
     ]
    }
   ],
   "source": [
    "num=int(input(\"Enter integer to convert to binary : \"))\n",
    "b=bin(num)\n",
    "print(b)\n",
    "a=len(b)\n",
    "ones=0\n",
    "zeros=0\n",
    "for i in range(2,a):\n",
    "    if(int(b[i])==0):\n",
    "        zeros+=1\n",
    "    else:\n",
    "        ones+=1\n",
    "print(\"Zeros \", zeros)\n",
    "print(\"Ones \", ones)\n"
   ]
  },
  {
   "cell_type": "markdown",
   "id": "f2a0892e",
   "metadata": {},
   "source": [
    "# Q9"
   ]
  },
  {
   "cell_type": "code",
   "execution_count": 65,
   "id": "187745bd",
   "metadata": {
    "scrolled": true
   },
   "outputs": [
    {
     "name": "stdout",
     "output_type": "stream",
     "text": [
      "Enter a number :45\n",
      "To Convert to binary enter 1 \n",
      "To Convert to octal enter 2 \n",
      "To Convert to hex enter 3 \n",
      "For exit press Q : \n",
      "Enter your choice : Q\n"
     ]
    }
   ],
   "source": [
    "\n",
    "flag = True\n",
    "while flag:\n",
    "    num=int(input(\"Enter a number :\"))\n",
    "    print(\"To Convert to binary enter 1 \")\n",
    "    print(\"To Convert to octal enter 2 \")\n",
    "    print(\"To Convert to hex enter 3 \")\n",
    "    print(\"For exit press Q : \")\n",
    "    fl=input(\"Enter your choice : \")\n",
    "    if fl =='q' or fl =='Q':\n",
    "        fl = False\n",
    "        flag = fl\n",
    "    elif fl == '1':\n",
    "        print(\"binary value of given integer is :\",bin(num))  \n",
    "    elif fl == '2':\n",
    "        print(\"octal value of given integer is :\",oct(num))\n",
    "    elif fl == '3':\n",
    "        print(\"hexadecimal value of given integer is :\",hex(num))\n",
    "    else:\n",
    "        print(\"Enter valid choice\")\n",
    "    \n",
    "    \n",
    "    \n",
    "    "
   ]
  },
  {
   "cell_type": "code",
   "execution_count": 11,
   "id": "610a9f16",
   "metadata": {},
   "outputs": [
    {
     "name": "stdout",
     "output_type": "stream",
     "text": [
      "Enter a number :25\n",
      "To Convert to binary enter 1 \n",
      "To Convert to octal enter 2 \n",
      "To Convert to hex enter 3 \n",
      "For exit press 0 : \n",
      "Enter your choice : 2\n",
      "octal value of given integer is : 0o31\n",
      "Enter a number :0\n",
      "To Convert to binary enter 1 \n",
      "To Convert to octal enter 2 \n",
      "To Convert to hex enter 3 \n",
      "For exit press 0 : \n",
      "Enter your choice : 0\n"
     ]
    }
   ],
   "source": [
    "while(True):\n",
    "    num=int(input(\"Enter a number :\"))\n",
    "    print(\"To Convert to binary enter 1 \")\n",
    "    print(\"To Convert to octal enter 2 \")\n",
    "    print(\"To Convert to hex enter 3 \")\n",
    "    print(\"For exit press 0 : \")\n",
    "    fl=int(input(\"Enter your choice : \"))\n",
    "    match fl:\n",
    "        case 0:\n",
    "            break\n",
    "        case 1:\n",
    "            print(\"binary value of given integer is :\",bin(num))  \n",
    "        case 2:\n",
    "            print(\"octal value of given integer is :\",oct(num))\n",
    "        case 3:\n",
    "            print(\"hexadecimal value of given integer is :\",hex(num))\n",
    "        case _:\n",
    "            print(\"Select Right choice\")"
   ]
  },
  {
   "cell_type": "markdown",
   "id": "29e574c7",
   "metadata": {},
   "source": [
    "# Q10"
   ]
  },
  {
   "cell_type": "code",
   "execution_count": 66,
   "id": "4e06a16f",
   "metadata": {
    "scrolled": true
   },
   "outputs": [
    {
     "name": "stdout",
     "output_type": "stream",
     "text": [
      "a) False\n",
      "b) False\n",
      "c) True\n",
      "d) False\n",
      "e) False\n",
      "f) False\n",
      "g) True\n",
      "h) True\n",
      "i) True\n",
      "j) True\n",
      "k) True\n",
      "l) True\n",
      "m) False\n",
      "n) True\n"
     ]
    }
   ],
   "source": [
    "print('a)',bool(''))\n",
    "print('b)',bool(0))\n",
    "print('c)',bool(0.09))\n",
    "print('d)',bool([]))\n",
    "print('e)',bool(range(0)))\n",
    "print('f)',bool(None))\n",
    "print('g)',bool(0+0.1j))\n",
    "print('h)',bool(-10))\n",
    "print('i)',bool(-9.6))\n",
    "print('j)',bool('ABCKL'))\n",
    "print('k)',bool('-'))\n",
    "print('l)',bool('False'))\n",
    "print('m)',bool(False))\n",
    "print('n)',bool('None'))\n"
   ]
  },
  {
   "cell_type": "markdown",
   "id": "3cee002d",
   "metadata": {},
   "source": [
    "# Q11\n"
   ]
  },
  {
   "cell_type": "code",
   "execution_count": 85,
   "id": "98378f2e",
   "metadata": {},
   "outputs": [
    {
     "name": "stdout",
     "output_type": "stream",
     "text": [
      "Size of object x=0 is 28 \n",
      "Size of object x=1 is 28 \n",
      "Size of object x=1048576 is 28 \n",
      "Size of object x=4294967296 is 32 \n",
      "Size of object x=1152921504606846976 is 36 \n"
     ]
    }
   ],
   "source": [
    "import sys as s\n",
    "x=0\n",
    "print(\"Size of object x={} is {} \".format(x,s.getsizeof(x)))\n",
    "x=1\n",
    "print(\"Size of object x={} is {} \".format(x,s.getsizeof(x)))\n",
    "x=2**20\n",
    "print(\"Size of object x={} is {} \".format(x,s.getsizeof(x)))\n",
    "x=2**32\n",
    "print(\"Size of object x={} is {} \".format(x,s.getsizeof(x)))\n",
    "x=2**60\n",
    "print(\"Size of object x={} is {} \".format(x,s.getsizeof(x)))\n"
   ]
  },
  {
   "cell_type": "markdown",
   "id": "cb0049b5",
   "metadata": {},
   "source": [
    "# Q12"
   ]
  },
  {
   "cell_type": "code",
   "execution_count": 89,
   "id": "cf4182d0",
   "metadata": {},
   "outputs": [
    {
     "name": "stdout",
     "output_type": "stream",
     "text": [
      "11\n",
      "0\n",
      "0b0\n",
      "0x1\n",
      "1578.67\n",
      "1\n",
      "0\n",
      "-8\n",
      "1.0\n",
      "42.0\n",
      "1000.0\n",
      "inf\n"
     ]
    }
   ],
   "source": [
    "print(10 + True)\n",
    "print(int(False))\n",
    "print(bin(False))\n",
    "print(hex(True))\n",
    "print(1578.67 + False)\n",
    "print(int(5/4))\n",
    "print(int(9/10))\n",
    "print(int(-89/10))\n",
    "print(float(True))\n",
    "print(float(6*7))\n",
    "print(float(1e3))\n",
    "print(float(1e323))"
   ]
  },
  {
   "cell_type": "markdown",
   "id": "399fc374",
   "metadata": {},
   "source": [
    "# Q13\n",
    "\n",
    "a. Print value of int.bit_length(10)\n",
    "Print value of bin(10)\n",
    "Explain output of both functions \n",
    "\n",
    "b. Take a number from user. Find its square root. And check if square root is an integer or not.\n",
    "(Hint: Use built-in function from float data type functions for last part)\n",
    "\n",
    "c. Take hexadecimal string from user and convert it to float\n",
    "Ex. User input string: '0x1.67e30'\n",
    "o/p 1.4058074951171875\n"
   ]
  },
  {
   "cell_type": "code",
   "execution_count": 3,
   "id": "2726ad18",
   "metadata": {},
   "outputs": [
    {
     "name": "stdout",
     "output_type": "stream",
     "text": [
      "4\n",
      "0b1010\n"
     ]
    },
    {
     "data": {
      "text/plain": [
       "\"First print gives output of length of bin value of 10\\nwhich is 1010 and length is 4 \\nSecond print binary value of num in string  10 => 1010 \\nwith suffix '0b' To indicate the num is in binary format \\n\""
      ]
     },
     "execution_count": 3,
     "metadata": {},
     "output_type": "execute_result"
    }
   ],
   "source": [
    "print(int.bit_length(10))\n",
    "print(bin(10))\n",
    "\"\"\"First print gives output of length of bin value of 10\n",
    "which is 1010 and length is 4 \n",
    "Second print binary value of num in string  10 => 1010 \n",
    "with suffix '0b' To indicate the num is in binary format \n",
    "\"\"\"\n"
   ]
  },
  {
   "cell_type": "code",
   "execution_count": 80,
   "id": "2e9dcc8d",
   "metadata": {},
   "outputs": [
    {
     "name": "stdout",
     "output_type": "stream",
     "text": [
      "63\n",
      "Given no has no sqrt root as perfect integer\n"
     ]
    }
   ],
   "source": [
    "import math\n",
    "n=int(input())\n",
    "s= math.sqrt(n)\n",
    "a=s.is_integer()\n",
    "if a==True:\n",
    "    print(\"Given number has sqrt root as perfect integer\")\n",
    "else:\n",
    "    print(\"Given number has no sqrt root as perfect integer\")"
   ]
  },
  {
   "cell_type": "code",
   "execution_count": 26,
   "id": "c809ae93",
   "metadata": {
    "scrolled": true
   },
   "outputs": [
    {
     "name": "stdout",
     "output_type": "stream",
     "text": [
      "0x1.6\n"
     ]
    },
    {
     "ename": "ValueError",
     "evalue": "invalid literal for int() with base 16: '0x1.6'",
     "output_type": "error",
     "traceback": [
      "\u001b[1;31m---------------------------------------------------------------------------\u001b[0m",
      "\u001b[1;31mValueError\u001b[0m                                Traceback (most recent call last)",
      "Cell \u001b[1;32mIn[26], line 2\u001b[0m\n\u001b[0;32m      1\u001b[0m s\u001b[38;5;241m=\u001b[39m\u001b[38;5;28minput\u001b[39m()\n\u001b[1;32m----> 2\u001b[0m f\u001b[38;5;241m=\u001b[39m\u001b[38;5;28mint\u001b[39m(s,\u001b[38;5;241m16\u001b[39m)\n\u001b[0;32m      3\u001b[0m \u001b[38;5;28mprint\u001b[39m(f)\n",
      "\u001b[1;31mValueError\u001b[0m: invalid literal for int() with base 16: '0x1.6'"
     ]
    }
   ],
   "source": [
    "s=input()\n",
    "f=int(s,16)\n",
    "print(f)"
   ]
  },
  {
   "cell_type": "markdown",
   "id": "6c129b36",
   "metadata": {},
   "source": [
    "# Q14\n",
    "WAP to convert given floating point number into fraction i..e numerator and denominator, and print them."
   ]
  },
  {
   "cell_type": "code",
   "execution_count": 31,
   "id": "e7e131bc",
   "metadata": {},
   "outputs": [
    {
     "name": "stdout",
     "output_type": "stream",
     "text": [
      "10.0\n",
      "(10, 1)\n"
     ]
    }
   ],
   "source": [
    "f= float(input())\n",
    "print(f.as_integer_ratio())"
   ]
  },
  {
   "cell_type": "markdown",
   "id": "0455eb0b",
   "metadata": {},
   "source": [
    "# Q15\n",
    "WAP to create simple calculator in python.\n",
    "Take two numbers from user and give following options\n",
    "a. add b. subtract c. divide d. multiply e. integer division f. mod operation \n",
    "g. check if both numbers are same  h. power operation i. square root of both numbers  j. log of both numbers\n",
    "k. gcd (find the  the greatest common divisor of the two integers) l. lcm (least common multiple)\n",
    "(Hint: Use inbuilt functions)"
   ]
  },
  {
   "cell_type": "code",
   "execution_count": 90,
   "id": "0f883f8c",
   "metadata": {
    "scrolled": true
   },
   "outputs": [
    {
     "name": "stdout",
     "output_type": "stream",
     "text": [
      " a. add \n",
      " b. subtract \n",
      " c. divide \n",
      " d. multiply \n",
      " e. integer division \n",
      " f. mod operation \n",
      " g. check if both numbers are same \n",
      " h. power operation \n",
      " i. square root of both numbers \n",
      " j. log of both numbers \n",
      " k. gcd (find the the greatest common divisor of the two integers) \n",
      " l. lcm (least common multiple) \n",
      "Enter the choice :a\n",
      "num1 : 5\n",
      "num2 : 5\n",
      "Sum of 5 and 5 is : 10.0\n"
     ]
    }
   ],
   "source": [
    "print(\" a. add \\n b. subtract \\n c. divide \\n d. multiply \\n e. integer division \\n f. mod operation \\n g. check if both numbers are same \\n h. power operation \\n i. square root of both numbers \\n j. log of both numbers \\n k. gcd (find the the greatest common divisor of the two integers) \\n l. lcm (least common multiple) \")\n",
    "cond=input(\"Enter the choice :\")\n",
    "import math\n",
    "if cond =='a' or cond =='A':\n",
    "    num1=int(input(\"num1 : \"))\n",
    "    num2=int(input(\"num2 : \"))\n",
    "    ans=math.fsum([num1,num2])\n",
    "    print(\"Sum of {} and {} is : {}\".format(num1,num2,ans))\n",
    "elif cond =='b' or cond =='B':\n",
    "    num1=int(input(\"num1 : \"))\n",
    "    num2=int(input(\"num2 : \"))\n",
    "    ans=num1-num2\n",
    "    print(\"Subtraction of {} and {} is : {}\".format(num1,num2,ans))\n",
    "elif cond =='c' or cond =='C':\n",
    "    num1=int(input(\"num1 : \"))\n",
    "    num2=int(input(\"num2 : \"))\n",
    "    ans=num1/num2\n",
    "    print(\"Divison of {} and {} is : {}\".format(num1,num2,ans))\n",
    "elif cond =='d' or cond =='D':\n",
    "    num1=int(input(\"num1 : \"))\n",
    "    num2=int(input(\"num2 : \"))\n",
    "    ans=num1*num2\n",
    "    print(\"Multiplication of {} and {} is : {}\".format(num1,num2,ans))\n",
    "elif cond =='e' or cond =='E':\n",
    "    num1=int(input(\"num1 : \"))\n",
    "    num2=int(input(\"num2 : \"))\n",
    "    ans=num1//num2\n",
    "    print(\"integer divison of {} and {} is : {}\".format(num1,num2,ans))\n",
    "elif cond =='f' or cond =='F':\n",
    "    num1=int(input(\"num1 : \"))\n",
    "    num2=int(input(\"num2 : \"))\n",
    "    ans=num1%num2\n",
    "    print(\"Mod operatin of {} and {} is : {}\".format(num1,num2,ans))\n",
    "elif cond =='g' or cond =='G':\n",
    "    num1=(input(\"num1 : \"))\n",
    "    num2=(input(\"num2 : \"))\n",
    "    if num1 == num2:\n",
    "        print(\"Both the number are equal\")\n",
    "    else:\n",
    "        print(\"Not equal\")\n",
    "elif cond =='h' or cond =='H':\n",
    "    num1=int(input(\"num1 : \"))\n",
    "    num2=int(input(\"num2 : \"))\n",
    "    ans=math.pow(num1,num2)\n",
    "    print(\"power of {} ** {} is : {}\".format(num1,num2,ans))\n",
    "elif cond =='i' or cond =='I':\n",
    "    num1=int(input(\"num1 : \"))\n",
    "    num2=int(input(\"num2 : \"))\n",
    "    ans=math.sqrt(num1)\n",
    "    ans2=math.sqrt(num2)\n",
    "    print(\"sqrt of {} and {} is : {} and {} \".format(num1,num2,ans,ans2))\n",
    "elif cond =='k' or cond =='K':\n",
    "    num1=int(input(\"num1 : \"))\n",
    "    num2=int(input(\"num2 : \"))\n",
    "    ans=math.gcd(num1,num2)\n",
    "    print(\"GCD of {} and {} is : {}\".format(num1,num2,ans))\n",
    "elif cond =='j' or cond =='J':\n",
    "    num1=int(input(\"num1 : \"))\n",
    "    num2=int(input(\"num2 : \"))\n",
    "    ans=math.log(num1)\n",
    "    ans2=math.log(num2)\n",
    "    print(\"Log of {} and {} is : {} and {}\".format(num1,num2,ans,ans2))\n",
    "elif cond =='L' or cond =='l':\n",
    "    num1=int(input(\"num1 : \"))\n",
    "    num2=int(input(\"num2 : \"))\n",
    "    ans=math.lcm(num1,num2)\n",
    "    print(\"LCM of {} and {} is : {}\".format(num1,num2,ans))\n",
    "else:\n",
    "    print(\"Valid Chice was not given\")"
   ]
  },
  {
   "cell_type": "code",
   "execution_count": 109,
   "id": "574867d2",
   "metadata": {},
   "outputs": [
    {
     "name": "stdout",
     "output_type": "stream",
     "text": [
      "Enter No : 5\n",
      "Not perfect integer\n",
      "2.23606797749979 <class 'float'>\n"
     ]
    }
   ],
   "source": [
    "num=int(input(\"Enter No : \"))\n",
    "ans=num**0.5\n",
    "ans1=type(ans)\n",
    "for i in range(int(ans)+1):\n",
    "    if(i**2==num):\n",
    "        print(\"Has Perfect Integer\")\n",
    "        break\n",
    "else:\n",
    "    print(\"Not perfect integer\")\n",
    "print(ans,ans1)"
   ]
  },
  {
   "cell_type": "markdown",
   "id": "1b853f73",
   "metadata": {},
   "source": [
    "# Advance"
   ]
  },
  {
   "cell_type": "code",
   "execution_count": 110,
   "id": "0c83ae67",
   "metadata": {},
   "outputs": [
    {
     "data": {
      "text/plain": [
       "True"
      ]
     },
     "execution_count": 110,
     "metadata": {},
     "output_type": "execute_result"
    }
   ],
   "source": [
    "bool(hex(0))"
   ]
  },
  {
   "cell_type": "code",
   "execution_count": 111,
   "id": "c0a08310",
   "metadata": {},
   "outputs": [
    {
     "data": {
      "text/plain": [
       "True"
      ]
     },
     "execution_count": 111,
     "metadata": {},
     "output_type": "execute_result"
    }
   ],
   "source": [
    "bool(bin(0))"
   ]
  },
  {
   "cell_type": "code",
   "execution_count": 113,
   "id": "0831b418",
   "metadata": {},
   "outputs": [
    {
     "data": {
      "text/plain": [
       "False"
      ]
     },
     "execution_count": 113,
     "metadata": {},
     "output_type": "execute_result"
    }
   ],
   "source": [
    "bool(0)"
   ]
  },
  {
   "cell_type": "code",
   "execution_count": 114,
   "id": "0a810c35",
   "metadata": {},
   "outputs": [
    {
     "name": "stdout",
     "output_type": "stream",
     "text": [
      "Equal\n"
     ]
    }
   ],
   "source": [
    "if( 10 == 10.00 ):\n",
    "    print(\"Equal\")\n",
    "else:\n",
    "    print(\"not Equal\")"
   ]
  },
  {
   "cell_type": "code",
   "execution_count": 115,
   "id": "ea231413",
   "metadata": {},
   "outputs": [
    {
     "name": "stdout",
     "output_type": "stream",
     "text": [
      "Equal\n"
     ]
    }
   ],
   "source": [
    "x=10\n",
    "y=10.00\n",
    "if( x == y ):\n",
    "    print(\"Equal\")\n",
    "else:\n",
    "    print(\"not Equal\")"
   ]
  },
  {
   "cell_type": "code",
   "execution_count": 116,
   "id": "30ec5715",
   "metadata": {},
   "outputs": [
    {
     "name": "stdout",
     "output_type": "stream",
     "text": [
      "Not Same\n"
     ]
    }
   ],
   "source": [
    "x=10\n",
    "y=10.00\n",
    "if( x is y ):\n",
    "    print(\"Same\")\n",
    "else:\n",
    "    print(\"Not Same\")"
   ]
  },
  {
   "cell_type": "code",
   "execution_count": 117,
   "id": "a2491719",
   "metadata": {},
   "outputs": [
    {
     "name": "stdout",
     "output_type": "stream",
     "text": [
      "Same\n"
     ]
    }
   ],
   "source": [
    "x=10\n",
    "y=10\n",
    "if( x is y ):\n",
    "    print(\"Same\")\n",
    "else:\n",
    "    print(\"Not Same\")"
   ]
  },
  {
   "cell_type": "code",
   "execution_count": 118,
   "id": "725c031d",
   "metadata": {},
   "outputs": [
    {
     "name": "stdout",
     "output_type": "stream",
     "text": [
      "(23+4j)\n"
     ]
    }
   ],
   "source": [
    "x = 23+4j\n",
    "print(x)"
   ]
  },
  {
   "cell_type": "code",
   "execution_count": 119,
   "id": "fa6006d0",
   "metadata": {},
   "outputs": [
    {
     "ename": "SyntaxError",
     "evalue": "invalid decimal literal (452835628.py, line 1)",
     "output_type": "error",
     "traceback": [
      "\u001b[1;36m  Cell \u001b[1;32mIn[119], line 1\u001b[1;36m\u001b[0m\n\u001b[1;33m    x = 23+4i\u001b[0m\n\u001b[1;37m           ^\u001b[0m\n\u001b[1;31mSyntaxError\u001b[0m\u001b[1;31m:\u001b[0m invalid decimal literal\n"
     ]
    }
   ],
   "source": [
    "x = 23+4i\n"
   ]
  },
  {
   "cell_type": "code",
   "execution_count": 120,
   "id": "e385062c",
   "metadata": {},
   "outputs": [
    {
     "ename": "SyntaxError",
     "evalue": "invalid decimal literal (4213006779.py, line 1)",
     "output_type": "error",
     "traceback": [
      "\u001b[1;36m  Cell \u001b[1;32mIn[120], line 1\u001b[1;36m\u001b[0m\n\u001b[1;33m    x = 23+4k\u001b[0m\n\u001b[1;37m           ^\u001b[0m\n\u001b[1;31mSyntaxError\u001b[0m\u001b[1;31m:\u001b[0m invalid decimal literal\n"
     ]
    }
   ],
   "source": [
    "x = 23+4k"
   ]
  },
  {
   "cell_type": "code",
   "execution_count": 124,
   "id": "7940da4a",
   "metadata": {},
   "outputs": [
    {
     "ename": "ValueError",
     "evalue": "complex() arg is a malformed string",
     "output_type": "error",
     "traceback": [
      "\u001b[1;31m---------------------------------------------------------------------------\u001b[0m",
      "\u001b[1;31mValueError\u001b[0m                                Traceback (most recent call last)",
      "Cell \u001b[1;32mIn[124], line 1\u001b[0m\n\u001b[1;32m----> 1\u001b[0m x\u001b[38;5;241m=\u001b[39m\u001b[38;5;28mcomplex\u001b[39m(\u001b[38;5;124m'\u001b[39m\u001b[38;5;124m23 + 4j\u001b[39m\u001b[38;5;124m'\u001b[39m)\n",
      "\u001b[1;31mValueError\u001b[0m: complex() arg is a malformed string"
     ]
    }
   ],
   "source": [
    "x=complex('23 + 4j')"
   ]
  },
  {
   "cell_type": "code",
   "execution_count": 122,
   "id": "5232e627",
   "metadata": {},
   "outputs": [
    {
     "name": "stdout",
     "output_type": "stream",
     "text": [
      "(23+4j)\n"
     ]
    }
   ],
   "source": [
    "x=complex('23+4j')\n",
    "print(x)"
   ]
  },
  {
   "cell_type": "markdown",
   "id": "3394b505",
   "metadata": {},
   "source": [
    "# Q Pattern"
   ]
  },
  {
   "cell_type": "code",
   "execution_count": 6,
   "id": "3eff59bb",
   "metadata": {},
   "outputs": [
    {
     "name": "stdout",
     "output_type": "stream",
     "text": [
      "1 \n",
      "2 1 \n",
      "3 2 1 \n",
      "4 3 2 1 \n",
      "5 4 3 2 1 \n"
     ]
    }
   ],
   "source": [
    "n=int(input())\n",
    "s=''\n",
    "for i in range(1,n+1):\n",
    "    s=str(i)+\" \"+s\n",
    "    print(s)"
   ]
  },
  {
   "cell_type": "code",
   "execution_count": 8,
   "id": "3bd38727",
   "metadata": {},
   "outputs": [
    {
     "ename": "NameError",
     "evalue": "name 'num' is not defined",
     "output_type": "error",
     "traceback": [
      "\u001b[1;31m---------------------------------------------------------------------------\u001b[0m",
      "\u001b[1;31mNameError\u001b[0m                                 Traceback (most recent call last)",
      "Cell \u001b[1;32mIn[8], line 1\u001b[0m\n\u001b[1;32m----> 1\u001b[0m \u001b[38;5;28;01mmatch\u001b[39;00m num:\n\u001b[0;32m      2\u001b[0m     \u001b[38;5;28;01mcase\u001b[39;00m \u001b[38;5;241m1\u001b[39m:\n\u001b[0;32m      3\u001b[0m         \u001b[38;5;28mprint\u001b[39m(\u001b[38;5;124m\"\u001b[39m\u001b[38;5;124mOne\u001b[39m\u001b[38;5;124m\"\u001b[39m)\n\u001b[0;32m      4\u001b[0m     \u001b[38;5;28;01mcase\u001b[39;00m \u001b[38;5;241m2\u001b[39m:\n\u001b[0;32m      5\u001b[0m         \u001b[38;5;28mprint\u001b[39m(\u001b[38;5;124m\"\u001b[39m\u001b[38;5;124mTwo\u001b[39m\u001b[38;5;124m\"\u001b[39m) \n\u001b[0;32m      6\u001b[0m     \u001b[38;5;28;01mcase\u001b[39;00m\u001b[38;5;250m \u001b[39m\u001b[38;5;28;01m_\u001b[39;00m:\n\u001b[0;32m      7\u001b[0m         \u001b[38;5;28mprint\u001b[39m(\u001b[38;5;124m\"\u001b[39m\u001b[38;5;124mAnything else than 1 and 2\u001b[39m\u001b[38;5;124m\"\u001b[39m)\n",
      "\u001b[1;31mNameError\u001b[0m: name 'num' is not defined"
     ]
    }
   ],
   "source": []
  },
  {
   "cell_type": "code",
   "execution_count": null,
   "id": "f2a67ba9",
   "metadata": {},
   "outputs": [],
   "source": [
    "num=1\n",
    "mkatch num "
   ]
  },
  {
   "cell_type": "code",
   "execution_count": null,
   "id": "5f1607e9",
   "metadata": {},
   "outputs": [],
   "source": [
    "import math\n",
    "while(True):\n",
    "    print(\" a. add \\n b. subtract \\n c. divide \\n d. multiply \\n e. Exit) \")\n",
    "    n=input(\"Enter a choice:- \")\n",
    "    if(n=='e' or ( n!='a' and n!='b'and n!='c'and n!='d')):\n",
    "        print(\"\\nSelect Right Choice\\n\")\n",
    "        continue\n",
    "    num1=int(input(\"Enter a Number:- \"))\n",
    "    num2=int(input(\"Enter second Number:- \"))\n",
    "    print()\n",
    "    match n:\n",
    "        case 'a':\n",
    "            ans=math.fsum([num1,num2])\n",
    "            print(\"Sum of {} and {} is : {}\".format(num1,num2,ans))\n",
    "        case 'b':\n",
    "            ans=num1-num2\n",
    "            print(\"Subtraction of {} and {} is : {}\".format(num1,num2,ans))\n",
    "        case 'c':\n",
    "            ans=num1/num2\n",
    "            print(\"Divison of {} and {} is : {}\".format(num1,num2,ans))\n",
    "        case 'd':\n",
    "            ans=num1*num2\n",
    "            print(\"Multiplication of {} and {} is : {}\".format(num1,num2,ans))\n",
    "        case 'e':\n",
    "            break\n",
    "        case _:\n",
    "            print(\"Select correct choice\")\n",
    "    print()"
   ]
  },
  {
   "cell_type": "code",
   "execution_count": null,
   "id": "51b2c78c",
   "metadata": {},
   "outputs": [],
   "source": []
  },
  {
   "cell_type": "code",
   "execution_count": null,
   "id": "b56ec2d6",
   "metadata": {},
   "outputs": [],
   "source": []
  },
  {
   "cell_type": "code",
   "execution_count": 2,
   "id": "991867b6",
   "metadata": {},
   "outputs": [
    {
     "name": "stdout",
     "output_type": "stream",
     "text": [
      "[45, 78, 23]\n",
      "[45, 90, 23]\n"
     ]
    }
   ],
   "source": [
    "a=[45,78,23]\n",
    "b=a\n",
    "print(b)\n",
    "a[1]=90\n",
    "print(b)\n"
   ]
  },
  {
   "cell_type": "code",
   "execution_count": 12,
   "id": "1208b811",
   "metadata": {},
   "outputs": [
    {
     "name": "stdout",
     "output_type": "stream",
     "text": [
      "[63]\n"
     ]
    }
   ],
   "source": [
    "l1=[]\n",
    "for i in range(51,99,2):\n",
    "    if i%3==0 |  i%7==0:\n",
    "        l1.append(i)\n",
    "print(l1)"
   ]
  },
  {
   "cell_type": "code",
   "execution_count": 7,
   "id": "eb3f988a",
   "metadata": {},
   "outputs": [
    {
     "name": "stdout",
     "output_type": "stream",
     "text": [
      "[51, 57, 63, 69, 75, 77, 81, 87, 91, 93, 99]\n"
     ]
    }
   ],
   "source": [
    "l2 = [x for x in range(51,100,2) if(x%3==0 or x%7==0)]\n",
    "print(l2)\n"
   ]
  },
  {
   "cell_type": "code",
   "execution_count": 19,
   "id": "dcdcd0d1",
   "metadata": {},
   "outputs": [],
   "source": [
    "l2 = [x if (x%3==0 or x%7==0) else f'{x}' for x in range(51,100,2)]"
   ]
  },
  {
   "cell_type": "code",
   "execution_count": 20,
   "id": "0ccd0f9e",
   "metadata": {},
   "outputs": [
    {
     "name": "stdout",
     "output_type": "stream",
     "text": [
      "[51, '53', '55', 57, '59', '61', 63, '65', '67', 69, '71', '73', 75, 77, '79', 81, '83', '85', 87, '89', 91, 93, '95', '97', 99]\n"
     ]
    }
   ],
   "source": [
    "print(l2)"
   ]
  },
  {
   "cell_type": "code",
   "execution_count": 29,
   "id": "be1af05a",
   "metadata": {},
   "outputs": [
    {
     "name": "stdout",
     "output_type": "stream",
     "text": [
      "12\n",
      "40\n",
      "27\n",
      "25\n"
     ]
    }
   ],
   "source": [
    "rollnos = [12,2,40,42,27,14,25,37]\n",
    "for idx, rollnos in enumerate(rollnos):\n",
    "    if  idx %2 ==0:\n",
    "        print(rollnos)"
   ]
  },
  {
   "cell_type": "code",
   "execution_count": 44,
   "id": "a716105a",
   "metadata": {},
   "outputs": [
    {
     "name": "stdout",
     "output_type": "stream",
     "text": [
      "1\n",
      "[2, 5, 6, 7, 8, 3, 5, 7, 87, 4, 3, 5]\n",
      "True\n",
      "[4, 125, 36, 343, 64, 27, 125, 343, 658503, 16, 27, 125]\n"
     ]
    }
   ],
   "source": [
    "squeare =[2,4,5,6,7,8,3,5,7,87,4,3,5]\n",
    "print(squeare.index(4))\n",
    "squeare.pop(1)\n",
    "print(squeare)\n",
    "print(4 in squeare)\n",
    "squuares =[ (x**2) if(x%2==0) else (x**3) for x in squeare]\n",
    "print(squuares)"
   ]
  },
  {
   "cell_type": "code",
   "execution_count": 50,
   "id": "7d01a7f9",
   "metadata": {},
   "outputs": [
    {
     "name": "stdout",
     "output_type": "stream",
     "text": [
      "[1, 2, 3, 4, 5, [1, 2, 3]]\n",
      "[1, 2, 3, 4, 5, [1, 2, 3]]\n",
      "[1, 2, 0, 4, 5, [1, 2, 3]]\n",
      "[1, 2, 3, 4, 5, [1, 2, 3]]\n",
      "[1, 2, 0, 4, 5, [1, 2, 3]]\n",
      "[1, 2, 0, 4, 5, [1, 5, 3]]\n"
     ]
    }
   ],
   "source": [
    "a=[1,2,3,4,5,[1,2,3]]\n",
    "print(a)\n",
    "b=[x for x in a]\n",
    "a[2]=0\n",
    "print(b)\n",
    "c=a.copy()\n",
    "print(c)\n",
    "a[0]=11\n",
    "print(b)\n",
    "print(c)\n",
    "a[-1][1]=5\n",
    "print(c)"
   ]
  },
  {
   "cell_type": "code",
   "execution_count": 51,
   "id": "8ed53eff",
   "metadata": {},
   "outputs": [
    {
     "data": {
      "text/plain": [
       "[6, 7, 8]"
      ]
     },
     "execution_count": 51,
     "metadata": {},
     "output_type": "execute_result"
    }
   ],
   "source": [
    "l1 = [1,2,3,4,5,6,7,8,9]\n",
    "l1[5:-1]"
   ]
  },
  {
   "cell_type": "code",
   "execution_count": 68,
   "id": "33151a66",
   "metadata": {},
   "outputs": [
    {
     "data": {
      "text/plain": [
       "[8, 5, 2]"
      ]
     },
     "execution_count": 68,
     "metadata": {},
     "output_type": "execute_result"
    }
   ],
   "source": [
    "l1 = [1,2,3,4,5,6,7,8,9]\n",
    "l1[7::-3]"
   ]
  },
  {
   "cell_type": "code",
   "execution_count": null,
   "id": "50f7d6d5",
   "metadata": {},
   "outputs": [],
   "source": []
  }
 ],
 "metadata": {
  "kernelspec": {
   "display_name": "Python 3 (ipykernel)",
   "language": "python",
   "name": "python3"
  },
  "language_info": {
   "codemirror_mode": {
    "name": "ipython",
    "version": 3
   },
   "file_extension": ".py",
   "mimetype": "text/x-python",
   "name": "python",
   "nbconvert_exporter": "python",
   "pygments_lexer": "ipython3",
   "version": "3.11.4"
  }
 },
 "nbformat": 4,
 "nbformat_minor": 5
}
