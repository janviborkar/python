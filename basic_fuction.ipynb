{
 "cells": [
  {
   "cell_type": "raw",
   "id": "df7e94f2",
   "metadata": {},
   "source": [
    "Q WA function to take a number as parameter and  print True if given number is even else print False"
   ]
  },
  {
   "cell_type": "code",
   "execution_count": 2,
   "id": "1c67c2ed",
   "metadata": {},
   "outputs": [
    {
     "name": "stdout",
     "output_type": "stream",
     "text": [
      "false\n"
     ]
    }
   ],
   "source": [
    "def even_p(n):\n",
    "    if n%2==0:\n",
    "        print(\"true\")\n",
    "    else:\n",
    "        print(\"false\")\n",
    "    return\n",
    "even_p(5)"
   ]
  },
  {
   "cell_type": "raw",
   "id": "9d36aa75",
   "metadata": {},
   "source": [
    "Q WA function to take list as parameter and print all numbers of given list which are divisible by 11\n"
   ]
  },
  {
   "cell_type": "code",
   "execution_count": 3,
   "id": "22700eb0",
   "metadata": {},
   "outputs": [
    {
     "name": "stdout",
     "output_type": "stream",
     "text": [
      "22\n",
      "88\n"
     ]
    }
   ],
   "source": [
    "def div_11(l1):\n",
    "    for i in l1:\n",
    "        if i%11==0:\n",
    "            print(i)\n",
    "        else:\n",
    "            pass\n",
    "    return\n",
    "l2 = [52,22,56,88]\n",
    "div_11(l2)"
   ]
  },
  {
   "cell_type": "raw",
   "id": "f9ed0f43",
   "metadata": {},
   "source": [
    "Q WA function to take string as parameter\n",
    "Check if string is palindrome are not\n",
    "If palindrome return 1\n",
    "if not palindrome return 0"
   ]
  },
  {
   "cell_type": "code",
   "execution_count": 2,
   "id": "c3d255b2",
   "metadata": {},
   "outputs": [
    {
     "data": {
      "text/plain": [
       "1"
      ]
     },
     "execution_count": 2,
     "metadata": {},
     "output_type": "execute_result"
    }
   ],
   "source": [
    "def palli(n):\n",
    "    if n[::1]==n[::-1]:\n",
    "        return 1\n",
    "    else:\n",
    "        return 0\n",
    "palli(\"ababa\")\n",
    "    \n",
    "\n",
    "\n",
    "    "
   ]
  },
  {
   "cell_type": "raw",
   "id": "8bc82bb0",
   "metadata": {},
   "source": [
    "WA function to check if number is prime or not. Return True if number is prime and false if number not prime.\n"
   ]
  },
  {
   "cell_type": "code",
   "execution_count": 4,
   "id": "b3af6696",
   "metadata": {},
   "outputs": [],
   "source": [
    "def prime(num):\n",
    "    for n in range(2,num):\n",
    "        if num % n ==0:\n",
    "            return True\n",
    "            break\n",
    "        else:\n",
    "            return False\n",
    "\n"
   ]
  },
  {
   "cell_type": "code",
   "execution_count": 5,
   "id": "a7b50b28",
   "metadata": {},
   "outputs": [
    {
     "data": {
      "text/plain": [
       "False"
      ]
     },
     "execution_count": 5,
     "metadata": {},
     "output_type": "execute_result"
    }
   ],
   "source": [
    "prime(5)"
   ]
  },
  {
   "cell_type": "raw",
   "id": "6381b4b5",
   "metadata": {},
   "source": [
    "Q WA function to take a string as parameter. Print its alternate characters starting from 2nd character"
   ]
  },
  {
   "cell_type": "code",
   "execution_count": 6,
   "id": "4ddb4ec3",
   "metadata": {},
   "outputs": [
    {
     "name": "stdout",
     "output_type": "stream",
     "text": [
      "AS\n"
     ]
    }
   ],
   "source": [
    "def char_1(n1):\n",
    "    print(n1[1::2])\n",
    "char_1(\"IACSD\")"
   ]
  },
  {
   "cell_type": "raw",
   "id": "e9a339d6",
   "metadata": {},
   "source": [
    "Q WA function to take dictionary as parameter. Print all keys of the dictionary"
   ]
  },
  {
   "cell_type": "code",
   "execution_count": 14,
   "id": "53fbd770",
   "metadata": {},
   "outputs": [
    {
     "name": "stdout",
     "output_type": "stream",
     "text": [
      "a\n",
      "b\n",
      "c\n",
      "d\n",
      "['a', 'b', 'c', 'd']\n"
     ]
    }
   ],
   "source": [
    "def dict_keys(d2):\n",
    "    for key in d1:\n",
    "        print(key)\n",
    "    print(list(d1.keys()))\n",
    "    \n",
    "d1 = {\"a\":45,\"b\":78,\"c\":89,\"d\":12}\n",
    "\n",
    "dict_keys(d1)"
   ]
  },
  {
   "cell_type": "raw",
   "id": "61065da0",
   "metadata": {},
   "source": [
    "Q WA function to take a dictionary as parameter. Print value of key \"name\" if key \"rollno\" is having value 100."
   ]
  },
  {
   "cell_type": "code",
   "execution_count": 7,
   "id": "27891874",
   "metadata": {},
   "outputs": [],
   "source": [
    "def dict_val(d3):\n",
    "    if d3['rollno']==100:\n",
    "        print(d3['name'])\n",
    "    \n",
    "        \n",
    "d4 = {\"name\":\"rahul\",\"rollno\":100}\n",
    "\n"
   ]
  },
  {
   "cell_type": "code",
   "execution_count": 18,
   "id": "11966390",
   "metadata": {},
   "outputs": [
    {
     "name": "stdout",
     "output_type": "stream",
     "text": [
      "rahul\n"
     ]
    }
   ],
   "source": [
    "dict_val(d4)"
   ]
  },
  {
   "cell_type": "markdown",
   "id": "5b5414da",
   "metadata": {},
   "source": [
    "write a function to take dictionary as parameter print value of key 'price'id key iteams is milk"
   ]
  },
  {
   "cell_type": "code",
   "execution_count": 19,
   "id": "a0cdeee9",
   "metadata": {},
   "outputs": [],
   "source": [
    "def check(d1):\n",
    "    if d1['item'] == 'milk':\n",
    "        print(d1['price'])"
   ]
  },
  {
   "cell_type": "code",
   "execution_count": 21,
   "id": "438f587b",
   "metadata": {},
   "outputs": [
    {
     "name": "stdout",
     "output_type": "stream",
     "text": [
      "200\n"
     ]
    }
   ],
   "source": [
    "d={'item': 'milk','price':200}\n",
    "check(d)"
   ]
  },
  {
   "cell_type": "markdown",
   "id": "7fbf9c2d",
   "metadata": {},
   "source": [
    "WA function to list of strings as parameter and print all strings which have character 's' 2 times\n"
   ]
  },
  {
   "cell_type": "code",
   "execution_count": 22,
   "id": "fbc9c870",
   "metadata": {},
   "outputs": [],
   "source": [
    "def stri(l5):\n",
    "    for i in l5:\n",
    "        if i.count('s')==2:\n",
    "            print(i)\n",
    "l7 = ['saraswati','sasane','sagar']"
   ]
  },
  {
   "cell_type": "code",
   "execution_count": 23,
   "id": "bbf4ad9e",
   "metadata": {},
   "outputs": [
    {
     "name": "stdout",
     "output_type": "stream",
     "text": [
      "saraswati\n",
      "sasane\n"
     ]
    }
   ],
   "source": [
    "stri(l7)"
   ]
  },
  {
   "cell_type": "markdown",
   "id": "970dc29e",
   "metadata": {},
   "source": [
    "Q WA function to take list of dictionaries. Print all dictionaries which contain key \"id\"."
   ]
  },
  {
   "cell_type": "code",
   "execution_count": 1,
   "id": "8718b7c1",
   "metadata": {},
   "outputs": [],
   "source": [
    "def list_dict(l8):\n",
    "    for d in l8:\n",
    "        if 'id' in d.keys():\n",
    "            print(d)\n",
    "\n",
    "    \n",
    "ld2 = [{'bookid':1554,'name':\"vhbasdbw\"},{'bookid':1444,'name':\"qerty\"},{'id':1554,'m_name':\"paa\"}]\n"
   ]
  },
  {
   "cell_type": "code",
   "execution_count": 27,
   "id": "66064237",
   "metadata": {},
   "outputs": [
    {
     "name": "stdout",
     "output_type": "stream",
     "text": [
      "{'id': 1554, 'm_name': 'paa'}\n"
     ]
    }
   ],
   "source": [
    "list_dict(ld2)"
   ]
  },
  {
   "cell_type": "code",
   "execution_count": null,
   "id": "054629fb",
   "metadata": {},
   "outputs": [],
   "source": []
  },
  {
   "cell_type": "code",
   "execution_count": null,
   "id": "6867889c",
   "metadata": {},
   "outputs": [],
   "source": []
  }
 ],
 "metadata": {
  "kernelspec": {
   "display_name": "Python 3 (ipykernel)",
   "language": "python",
   "name": "python3"
  },
  "language_info": {
   "codemirror_mode": {
    "name": "ipython",
    "version": 3
   },
   "file_extension": ".py",
   "mimetype": "text/x-python",
   "name": "python",
   "nbconvert_exporter": "python",
   "pygments_lexer": "ipython3",
   "version": "3.11.4"
  }
 },
 "nbformat": 4,
 "nbformat_minor": 5
}
